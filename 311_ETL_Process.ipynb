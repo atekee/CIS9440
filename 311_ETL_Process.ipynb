{
 "cells": [
  {
   "cell_type": "code",
   "execution_count": 499,
   "id": "unexpected-fundamentals",
   "metadata": {},
   "outputs": [],
   "source": [
    "##pip install sodapy\n",
    "from sodapy import Socrata\n",
    "import pandas as pd\n",
    "import datetime"
   ]
  },
  {
   "cell_type": "code",
   "execution_count": 500,
   "id": "wrong-account",
   "metadata": {},
   "outputs": [
    {
     "name": "stderr",
     "output_type": "stream",
     "text": [
      "WARNING:root:Requests made without an app_token will be subject to strict throttling limits.\n"
     ]
    }
   ],
   "source": [
    "##we filter all rows where vehicle_type column equals 'Car Service'\n",
    "##client.timeout = 1000000 -> the connection doesnt time out after default time (10 seconds)\n",
    "##limit by 1000000\n",
    "client = Socrata(\"data.cityofnewyork.us\", None)\n",
    "client.timeout = 1000000\n",
    "query = \"SELECT * WHERE vehicle_type = 'Car Service' LIMIT 1000000 \""
   ]
  },
  {
   "cell_type": "code",
   "execution_count": 501,
   "id": "interior-example",
   "metadata": {},
   "outputs": [],
   "source": [
    "results = client.get(\"erm2-nwe9\", query=query)"
   ]
  },
  {
   "cell_type": "code",
   "execution_count": 502,
   "id": "postal-nightmare",
   "metadata": {},
   "outputs": [],
   "source": [
    "df = pd.DataFrame.from_records(results)"
   ]
  },
  {
   "cell_type": "code",
   "execution_count": 503,
   "id": "handled-hughes",
   "metadata": {},
   "outputs": [
    {
     "name": "stdout",
     "output_type": "stream",
     "text": [
      "<class 'pandas.core.frame.DataFrame'>\n",
      "RangeIndex: 8541 entries, 0 to 8540\n",
      "Data columns (total 41 columns):\n",
      " #   Column                          Non-Null Count  Dtype \n",
      "---  ------                          --------------  ----- \n",
      " 0   unique_key                      8541 non-null   object\n",
      " 1   created_date                    8541 non-null   object\n",
      " 2   closed_date                     7330 non-null   object\n",
      " 3   agency                          8541 non-null   object\n",
      " 4   agency_name                     8541 non-null   object\n",
      " 5   complaint_type                  8541 non-null   object\n",
      " 6   descriptor                      8541 non-null   object\n",
      " 7   incident_zip                    8088 non-null   object\n",
      " 8   incident_address                4584 non-null   object\n",
      " 9   street_name                     4584 non-null   object\n",
      " 10  cross_street_1                  4846 non-null   object\n",
      " 11  cross_street_2                  4842 non-null   object\n",
      " 12  intersection_street_1           4867 non-null   object\n",
      " 13  intersection_street_2           4865 non-null   object\n",
      " 14  city                            7914 non-null   object\n",
      " 15  landmark                        1860 non-null   object\n",
      " 16  status                          8541 non-null   object\n",
      " 17  resolution_description          8514 non-null   object\n",
      " 18  resolution_action_updated_date  8294 non-null   object\n",
      " 19  community_board                 8541 non-null   object\n",
      " 20  bbl                             4283 non-null   object\n",
      " 21  borough                         8541 non-null   object\n",
      " 22  x_coordinate_state_plane        7998 non-null   object\n",
      " 23  y_coordinate_state_plane        7998 non-null   object\n",
      " 24  open_data_channel_type          8541 non-null   object\n",
      " 25  park_facility_name              8541 non-null   object\n",
      " 26  park_borough                    8541 non-null   object\n",
      " 27  vehicle_type                    8541 non-null   object\n",
      " 28  taxi_company_borough            5658 non-null   object\n",
      " 29  taxi_pick_up_location           1706 non-null   object\n",
      " 30  latitude                        7998 non-null   object\n",
      " 31  longitude                       7998 non-null   object\n",
      " 32  location                        7998 non-null   object\n",
      " 33  location_type                   7195 non-null   object\n",
      " 34  facility_type                   6768 non-null   object\n",
      " 35  due_date                        6241 non-null   object\n",
      " 36  bridge_highway_name             328 non-null    object\n",
      " 37  bridge_highway_direction        314 non-null    object\n",
      " 38  road_ramp                       296 non-null    object\n",
      " 39  bridge_highway_segment          234 non-null    object\n",
      " 40  address_type                    6277 non-null   object\n",
      "dtypes: object(41)\n",
      "memory usage: 2.7+ MB\n"
     ]
    }
   ],
   "source": [
    "df.info()"
   ]
  },
  {
   "cell_type": "code",
   "execution_count": 504,
   "id": "decreased-country",
   "metadata": {},
   "outputs": [],
   "source": [
    "##choose relevant colu\n",
    "df = df[['unique_key', 'created_date', 'agency', 'agency_name', 'complaint_type', 'descriptor', 'incident_zip', \n",
    "'incident_address', 'street_name', 'city', 'borough', 'taxi_company_borough', 'taxi_pick_up_location',\n",
    "'latitude', 'longitude', 'location', 'location_type']]"
   ]
  },
  {
   "cell_type": "code",
   "execution_count": 505,
   "id": "induced-superintendent",
   "metadata": {},
   "outputs": [],
   "source": [
    "##dropping null values from these columns as I'll change data type to number\n",
    "df.dropna(subset=['latitude','longitude'], inplace=True)\n",
    "\n",
    "##incident_zip has \"N/A\" value it needs to be classified as NaN first, then it can be dropped.\n",
    "df['incident_zip'] = pd.to_numeric(df['incident_zip'], errors='coerce')\n",
    "df.dropna(subset=['incident_zip'], inplace=True)"
   ]
  },
  {
   "cell_type": "code",
   "execution_count": 506,
   "id": "chemical-legislation",
   "metadata": {},
   "outputs": [
    {
     "data": {
      "text/plain": [
       "unique_key                  0\n",
       "created_date                0\n",
       "agency                      0\n",
       "agency_name                 0\n",
       "complaint_type              0\n",
       "descriptor                  0\n",
       "incident_zip                0\n",
       "incident_address         3493\n",
       "street_name              3493\n",
       "city                      184\n",
       "borough                     0\n",
       "taxi_company_borough     2652\n",
       "taxi_pick_up_location    6285\n",
       "latitude                    0\n",
       "longitude                   0\n",
       "location                    0\n",
       "location_type            1310\n",
       "dtype: int64"
      ]
     },
     "execution_count": 506,
     "metadata": {},
     "output_type": "execute_result"
    }
   ],
   "source": [
    "df.isnull().sum()"
   ]
  },
  {
   "cell_type": "code",
   "execution_count": 507,
   "id": "processed-ending",
   "metadata": {},
   "outputs": [
    {
     "data": {
      "text/plain": [
       "unique_key                        int64\n",
       "created_date             datetime64[ns]\n",
       "agency                           object\n",
       "agency_name                      object\n",
       "complaint_type                   object\n",
       "descriptor                       object\n",
       "incident_zip                      int64\n",
       "incident_address                 object\n",
       "street_name                      object\n",
       "city                             object\n",
       "borough                          object\n",
       "taxi_company_borough             object\n",
       "taxi_pick_up_location            object\n",
       "latitude                        float64\n",
       "longitude                       float64\n",
       "location                         object\n",
       "location_type                    object\n",
       "dtype: object"
      ]
     },
     "execution_count": 507,
     "metadata": {},
     "output_type": "execute_result"
    }
   ],
   "source": [
    "##change data types\n",
    "df['unique_key'] = df['unique_key'].astype('int')\n",
    "df['latitude'] = df['latitude'].astype('float')\n",
    "df['longitude'] = df['longitude'].astype('float')\n",
    "df['incident_zip'] = df['incident_zip'].astype('int')\n",
    "\n",
    "#convert date column to datetime \n",
    "df['created_date'] = pd.to_datetime(df['created_date'], \n",
    "                                    format='%Y-%m-%dT%H:%M:%S.%f')\n",
    "df.dtypes"
   ]
  },
  {
   "cell_type": "code",
   "execution_count": 508,
   "id": "loving-progress",
   "metadata": {},
   "outputs": [],
   "source": [
    "df['year'] = df['created_date'].dt.year\n",
    "df['month'] = df['created_date'].dt.month\n",
    "df['day'] = df['created_date'].dt.dayofweek"
   ]
  },
  {
   "cell_type": "code",
   "execution_count": 509,
   "id": "failing-platform",
   "metadata": {},
   "outputs": [
    {
     "data": {
      "text/plain": [
       "array(['TLC'], dtype=object)"
      ]
     },
     "execution_count": 509,
     "metadata": {},
     "output_type": "execute_result"
    }
   ],
   "source": [
    "df['agency'].unique()"
   ]
  },
  {
   "cell_type": "code",
   "execution_count": 510,
   "id": "alive-effect",
   "metadata": {},
   "outputs": [
    {
     "data": {
      "text/plain": [
       "array(['Taxi and Limousine Commission'], dtype=object)"
      ]
     },
     "execution_count": 510,
     "metadata": {},
     "output_type": "execute_result"
    }
   ],
   "source": [
    "df['agency_name'].unique()"
   ]
  },
  {
   "cell_type": "code",
   "execution_count": 511,
   "id": "binding-counter",
   "metadata": {},
   "outputs": [
    {
     "data": {
      "text/plain": [
       "array(['For Hire Vehicle Complaint', 'For Hire Vehicle Report',\n",
       "       'Dispatched Taxi Complaint', 'Taxi Complaint',\n",
       "       'FHV Licensee Complaint', 'Lost Property'], dtype=object)"
      ]
     },
     "execution_count": 511,
     "metadata": {},
     "output_type": "execute_result"
    }
   ],
   "source": [
    "df['complaint_type'].unique()"
   ]
  },
  {
   "cell_type": "code",
   "execution_count": 512,
   "id": "adopted-capture",
   "metadata": {},
   "outputs": [
    {
     "data": {
      "text/plain": [
       "array(['Car Service Company Complaint', 'Driver Complaint',\n",
       "       'Driver Complaint - Passenger', 'Car Service Company Report',\n",
       "       'Driver Report - Passenger', 'Driver Complaint - Non Passenger',\n",
       "       'Insurance Information Requested', 'Driver Report - Non Passenger',\n",
       "       'Driver Report', 'Equipment Complaint'], dtype=object)"
      ]
     },
     "execution_count": 512,
     "metadata": {},
     "output_type": "execute_result"
    }
   ],
   "source": [
    "df['descriptor'].unique()"
   ]
  },
  {
   "cell_type": "code",
   "execution_count": 513,
   "id": "insured-prescription",
   "metadata": {},
   "outputs": [
    {
     "data": {
      "text/plain": [
       "array(['50 EAST   54 STREET', '65 PLACE', '291 SCHENECTADY AVENUE', ...,\n",
       "       '19 EAST HOUSTON STREET', '2044 WESTCHESTER AVENUE',\n",
       "       '245 WEST   17 STREET'], dtype=object)"
      ]
     },
     "execution_count": 513,
     "metadata": {},
     "output_type": "execute_result"
    }
   ],
   "source": [
    "df['incident_address'].unique()"
   ]
  },
  {
   "cell_type": "code",
   "execution_count": 514,
   "id": "executive-logan",
   "metadata": {},
   "outputs": [
    {
     "data": {
      "text/plain": [
       "array(['EAST   54 STREET', '65 PLACE', 'SCHENECTADY AVENUE', ...,\n",
       "       'DAFFODIL LANE', '49 AVENUE', 'WEST   17 STREET'], dtype=object)"
      ]
     },
     "execution_count": 514,
     "metadata": {},
     "output_type": "execute_result"
    }
   ],
   "source": [
    "df['street_name'].unique()"
   ]
  },
  {
   "cell_type": "code",
   "execution_count": 515,
   "id": "reasonable-kennedy",
   "metadata": {},
   "outputs": [
    {
     "data": {
      "text/plain": [
       "array(['NEW YORK', nan, 'BROOKLYN', 'JAMAICA', 'JACKSON HEIGHTS', 'BRONX',\n",
       "       'RIDGEWOOD', 'LONG ISLAND CITY', 'REGO PARK', 'ASTORIA', 'CORONA',\n",
       "       'STATEN ISLAND', 'EAST ELMHURST', 'SUNNYSIDE', 'ROSEDALE',\n",
       "       'WOODSIDE', 'FLUSHING', 'FAR ROCKAWAY', 'WOODHAVEN',\n",
       "       'SOUTH OZONE PARK', 'RICHMOND HILL', 'ELMHURST',\n",
       "       'SPRINGFIELD GARDENS', 'OZONE PARK', 'LITTLE NECK',\n",
       "       'FRESH MEADOWS', 'SOUTH RICHMOND HILL', 'SAINT ALBANS',\n",
       "       'QUEENS VILLAGE', 'MASPETH', 'HOWARD BEACH', 'CAMBRIA HEIGHTS',\n",
       "       'ARVERNE', 'HOLLIS', 'FOREST HILLS', 'BAYSIDE', 'MIDDLE VILLAGE',\n",
       "       'GLEN OAKS', 'OAKLAND GARDENS', 'BELLEROSE', 'KEW GARDENS',\n",
       "       'ROCKAWAY PARK', 'WHITESTONE', 'COLLEGE POINT', 'QUEENS',\n",
       "       'UNKNOWN', 'NEW HYDE PARK', 'FLORAL PARK'], dtype=object)"
      ]
     },
     "execution_count": 515,
     "metadata": {},
     "output_type": "execute_result"
    }
   ],
   "source": [
    "df['city'].unique()"
   ]
  },
  {
   "cell_type": "code",
   "execution_count": 516,
   "id": "first-suspect",
   "metadata": {},
   "outputs": [
    {
     "data": {
      "text/plain": [
       "array(['MANHATTAN', 'QUEENS', 'BROOKLYN', 'BRONX', 'STATEN ISLAND',\n",
       "       'Unspecified'], dtype=object)"
      ]
     },
     "execution_count": 516,
     "metadata": {},
     "output_type": "execute_result"
    }
   ],
   "source": [
    "df['borough'].unique()"
   ]
  },
  {
   "cell_type": "code",
   "execution_count": 517,
   "id": "advisory-battery",
   "metadata": {},
   "outputs": [
    {
     "data": {
      "text/plain": [
       "array(['MANHATTAN', 'QUEENS', 'BROOKLYN', nan, 'BRONX', 'STATEN ISLAND'],\n",
       "      dtype=object)"
      ]
     },
     "execution_count": 517,
     "metadata": {},
     "output_type": "execute_result"
    }
   ],
   "source": [
    "df['taxi_company_borough'].unique()"
   ]
  },
  {
   "cell_type": "code",
   "execution_count": 518,
   "id": "portable-building",
   "metadata": {},
   "outputs": [
    {
     "data": {
      "text/plain": [
       "array(['50 EAST   54 STREET, MANHATTAN (NEW YORK), NY, 10022',\n",
       "       '65 PLACE AND METROPOLITAN AVENUE, QUEENS, NY, 11379',\n",
       "       '291 SCHENECTADY AVENUE, BROOKLYN, NY, 11213', ...,\n",
       "       '19 EAST HOUSTON STREET, MANHATTAN (NEW YORK), NY, 10012',\n",
       "       '2044 WESTCHESTER AVENUE, BRONX, NY, 10462',\n",
       "       '245 WEST   17 STREET, MANHATTAN (NEW YORK), NY, 10011'],\n",
       "      dtype=object)"
      ]
     },
     "execution_count": 518,
     "metadata": {},
     "output_type": "execute_result"
    }
   ],
   "source": [
    "df['taxi_pick_up_location'].unique()"
   ]
  },
  {
   "cell_type": "code",
   "execution_count": 519,
   "id": "least-campbell",
   "metadata": {},
   "outputs": [
    {
     "data": {
      "text/plain": [
       "array([nan, 'Highway', 'Street', 'Roadway Tunnel', 'Bridge', 'Taxi'],\n",
       "      dtype=object)"
      ]
     },
     "execution_count": 519,
     "metadata": {},
     "output_type": "execute_result"
    }
   ],
   "source": [
    "df['location_type'].unique()"
   ]
  },
  {
   "cell_type": "code",
   "execution_count": 520,
   "id": "detailed-hybrid",
   "metadata": {},
   "outputs": [
    {
     "data": {
      "text/html": [
       "<div>\n",
       "<style scoped>\n",
       "    .dataframe tbody tr th:only-of-type {\n",
       "        vertical-align: middle;\n",
       "    }\n",
       "\n",
       "    .dataframe tbody tr th {\n",
       "        vertical-align: top;\n",
       "    }\n",
       "\n",
       "    .dataframe thead th {\n",
       "        text-align: right;\n",
       "    }\n",
       "</style>\n",
       "<table border=\"1\" class=\"dataframe\">\n",
       "  <thead>\n",
       "    <tr style=\"text-align: right;\">\n",
       "      <th></th>\n",
       "      <th>index</th>\n",
       "      <th>unique_key</th>\n",
       "      <th>created_date</th>\n",
       "      <th>agency</th>\n",
       "      <th>agency_name</th>\n",
       "      <th>complaint_type</th>\n",
       "      <th>descriptor</th>\n",
       "      <th>incident_zip</th>\n",
       "      <th>incident_address</th>\n",
       "      <th>street_name</th>\n",
       "      <th>...</th>\n",
       "      <th>borough</th>\n",
       "      <th>taxi_company_borough</th>\n",
       "      <th>taxi_pick_up_location</th>\n",
       "      <th>latitude</th>\n",
       "      <th>longitude</th>\n",
       "      <th>location</th>\n",
       "      <th>location_type</th>\n",
       "      <th>year</th>\n",
       "      <th>month</th>\n",
       "      <th>day</th>\n",
       "    </tr>\n",
       "  </thead>\n",
       "  <tbody>\n",
       "    <tr>\n",
       "      <th>0</th>\n",
       "      <td>0</td>\n",
       "      <td>45245054</td>\n",
       "      <td>2019-12-25 16:42:37</td>\n",
       "      <td>TLC</td>\n",
       "      <td>Taxi and Limousine Commission</td>\n",
       "      <td>For Hire Vehicle Complaint</td>\n",
       "      <td>Car Service Company Complaint</td>\n",
       "      <td>10022</td>\n",
       "      <td>50 EAST   54 STREET</td>\n",
       "      <td>EAST   54 STREET</td>\n",
       "      <td>...</td>\n",
       "      <td>MANHATTAN</td>\n",
       "      <td>MANHATTAN</td>\n",
       "      <td>50 EAST   54 STREET, MANHATTAN (NEW YORK), NY,...</td>\n",
       "      <td>40.760172</td>\n",
       "      <td>-73.973331</td>\n",
       "      <td>{'latitude': '40.76017203609217', 'longitude':...</td>\n",
       "      <td>NaN</td>\n",
       "      <td>2019</td>\n",
       "      <td>12</td>\n",
       "      <td>2</td>\n",
       "    </tr>\n",
       "    <tr>\n",
       "      <th>1</th>\n",
       "      <td>1</td>\n",
       "      <td>45246167</td>\n",
       "      <td>2019-12-26 11:12:01</td>\n",
       "      <td>TLC</td>\n",
       "      <td>Taxi and Limousine Commission</td>\n",
       "      <td>For Hire Vehicle Complaint</td>\n",
       "      <td>Car Service Company Complaint</td>\n",
       "      <td>11379</td>\n",
       "      <td>65 PLACE</td>\n",
       "      <td>65 PLACE</td>\n",
       "      <td>...</td>\n",
       "      <td>QUEENS</td>\n",
       "      <td>QUEENS</td>\n",
       "      <td>65 PLACE AND METROPOLITAN AVENUE, QUEENS, NY, ...</td>\n",
       "      <td>40.712478</td>\n",
       "      <td>-73.895025</td>\n",
       "      <td>{'latitude': '40.712478350483835', 'longitude'...</td>\n",
       "      <td>NaN</td>\n",
       "      <td>2019</td>\n",
       "      <td>12</td>\n",
       "      <td>3</td>\n",
       "    </tr>\n",
       "    <tr>\n",
       "      <th>2</th>\n",
       "      <td>2</td>\n",
       "      <td>45247198</td>\n",
       "      <td>2019-12-26 19:15:21</td>\n",
       "      <td>TLC</td>\n",
       "      <td>Taxi and Limousine Commission</td>\n",
       "      <td>For Hire Vehicle Complaint</td>\n",
       "      <td>Car Service Company Complaint</td>\n",
       "      <td>11213</td>\n",
       "      <td>291 SCHENECTADY AVENUE</td>\n",
       "      <td>SCHENECTADY AVENUE</td>\n",
       "      <td>...</td>\n",
       "      <td>BROOKLYN</td>\n",
       "      <td>BROOKLYN</td>\n",
       "      <td>291 SCHENECTADY AVENUE, BROOKLYN, NY, 11213</td>\n",
       "      <td>40.668089</td>\n",
       "      <td>-73.933961</td>\n",
       "      <td>{'latitude': '40.668088651233106', 'longitude'...</td>\n",
       "      <td>NaN</td>\n",
       "      <td>2019</td>\n",
       "      <td>12</td>\n",
       "      <td>3</td>\n",
       "    </tr>\n",
       "    <tr>\n",
       "      <th>3</th>\n",
       "      <td>3</td>\n",
       "      <td>45248682</td>\n",
       "      <td>2019-12-26 14:42:45</td>\n",
       "      <td>TLC</td>\n",
       "      <td>Taxi and Limousine Commission</td>\n",
       "      <td>For Hire Vehicle Complaint</td>\n",
       "      <td>Car Service Company Complaint</td>\n",
       "      <td>11432</td>\n",
       "      <td>173-21 JAMAICA AVENUE</td>\n",
       "      <td>JAMAICA AVENUE</td>\n",
       "      <td>...</td>\n",
       "      <td>QUEENS</td>\n",
       "      <td>QUEENS</td>\n",
       "      <td>173-21 JAMAICA AVENUE, QUEENS (JAMAICA), NY, 1...</td>\n",
       "      <td>40.707914</td>\n",
       "      <td>-73.786418</td>\n",
       "      <td>{'latitude': '40.707914490470344', 'longitude'...</td>\n",
       "      <td>NaN</td>\n",
       "      <td>2019</td>\n",
       "      <td>12</td>\n",
       "      <td>3</td>\n",
       "    </tr>\n",
       "    <tr>\n",
       "      <th>4</th>\n",
       "      <td>4</td>\n",
       "      <td>45249480</td>\n",
       "      <td>2019-12-26 23:01:26</td>\n",
       "      <td>TLC</td>\n",
       "      <td>Taxi and Limousine Commission</td>\n",
       "      <td>For Hire Vehicle Complaint</td>\n",
       "      <td>Car Service Company Complaint</td>\n",
       "      <td>10007</td>\n",
       "      <td>191 BROADWAY</td>\n",
       "      <td>BROADWAY</td>\n",
       "      <td>...</td>\n",
       "      <td>MANHATTAN</td>\n",
       "      <td>MANHATTAN</td>\n",
       "      <td>191 BROADWAY, MANHATTAN (NEW YORK), NY, 10007</td>\n",
       "      <td>40.710374</td>\n",
       "      <td>-74.009519</td>\n",
       "      <td>{'latitude': '40.710373925407936', 'longitude'...</td>\n",
       "      <td>NaN</td>\n",
       "      <td>2019</td>\n",
       "      <td>12</td>\n",
       "      <td>3</td>\n",
       "    </tr>\n",
       "    <tr>\n",
       "      <th>...</th>\n",
       "      <td>...</td>\n",
       "      <td>...</td>\n",
       "      <td>...</td>\n",
       "      <td>...</td>\n",
       "      <td>...</td>\n",
       "      <td>...</td>\n",
       "      <td>...</td>\n",
       "      <td>...</td>\n",
       "      <td>...</td>\n",
       "      <td>...</td>\n",
       "      <td>...</td>\n",
       "      <td>...</td>\n",
       "      <td>...</td>\n",
       "      <td>...</td>\n",
       "      <td>...</td>\n",
       "      <td>...</td>\n",
       "      <td>...</td>\n",
       "      <td>...</td>\n",
       "      <td>...</td>\n",
       "      <td>...</td>\n",
       "      <td>...</td>\n",
       "    </tr>\n",
       "    <tr>\n",
       "      <th>1286</th>\n",
       "      <td>8457</td>\n",
       "      <td>46773529</td>\n",
       "      <td>2020-07-06 22:10:46</td>\n",
       "      <td>TLC</td>\n",
       "      <td>Taxi and Limousine Commission</td>\n",
       "      <td>For Hire Vehicle Complaint</td>\n",
       "      <td>Car Service Company Complaint</td>\n",
       "      <td>10302</td>\n",
       "      <td>1616 CASTLETON AVENUE</td>\n",
       "      <td>CASTLETON AVENUE</td>\n",
       "      <td>...</td>\n",
       "      <td>STATEN ISLAND</td>\n",
       "      <td>STATEN ISLAND</td>\n",
       "      <td>1616 CASTLETON AVENUE, STATEN IS (STATEN ISLAN...</td>\n",
       "      <td>40.636082</td>\n",
       "      <td>-74.137083</td>\n",
       "      <td>{'latitude': '40.636082117053114', 'longitude'...</td>\n",
       "      <td>NaN</td>\n",
       "      <td>2020</td>\n",
       "      <td>7</td>\n",
       "      <td>0</td>\n",
       "    </tr>\n",
       "    <tr>\n",
       "      <th>1287</th>\n",
       "      <td>8458</td>\n",
       "      <td>46836329</td>\n",
       "      <td>2020-07-12 15:06:19</td>\n",
       "      <td>TLC</td>\n",
       "      <td>Taxi and Limousine Commission</td>\n",
       "      <td>For Hire Vehicle Complaint</td>\n",
       "      <td>Car Service Company Complaint</td>\n",
       "      <td>11692</td>\n",
       "      <td>354 BEACH   56 STREET</td>\n",
       "      <td>BEACH   56 STREET</td>\n",
       "      <td>...</td>\n",
       "      <td>QUEENS</td>\n",
       "      <td>BRONX</td>\n",
       "      <td>354 BEACH   56 STREET, QUEENS (ARVERNE), NY, 1...</td>\n",
       "      <td>40.593788</td>\n",
       "      <td>-73.786142</td>\n",
       "      <td>{'latitude': '40.59378834000442', 'longitude':...</td>\n",
       "      <td>NaN</td>\n",
       "      <td>2020</td>\n",
       "      <td>7</td>\n",
       "      <td>6</td>\n",
       "    </tr>\n",
       "    <tr>\n",
       "      <th>1288</th>\n",
       "      <td>8459</td>\n",
       "      <td>47037225</td>\n",
       "      <td>2020-07-30 15:30:24</td>\n",
       "      <td>TLC</td>\n",
       "      <td>Taxi and Limousine Commission</td>\n",
       "      <td>For Hire Vehicle Complaint</td>\n",
       "      <td>Car Service Company Complaint</td>\n",
       "      <td>10036</td>\n",
       "      <td>10 AVENUE</td>\n",
       "      <td>10 AVENUE</td>\n",
       "      <td>...</td>\n",
       "      <td>MANHATTAN</td>\n",
       "      <td>MANHATTAN</td>\n",
       "      <td>10 AVENUE AND WEST   45 STREET, MANHATTAN, NY,...</td>\n",
       "      <td>40.761556</td>\n",
       "      <td>-73.994069</td>\n",
       "      <td>{'latitude': '40.761555576126604', 'longitude'...</td>\n",
       "      <td>NaN</td>\n",
       "      <td>2020</td>\n",
       "      <td>7</td>\n",
       "      <td>3</td>\n",
       "    </tr>\n",
       "    <tr>\n",
       "      <th>1289</th>\n",
       "      <td>8460</td>\n",
       "      <td>47104021</td>\n",
       "      <td>2020-08-04 11:24:47</td>\n",
       "      <td>TLC</td>\n",
       "      <td>Taxi and Limousine Commission</td>\n",
       "      <td>For Hire Vehicle Complaint</td>\n",
       "      <td>Car Service Company Complaint</td>\n",
       "      <td>11101</td>\n",
       "      <td>21-24 44 AVENUE</td>\n",
       "      <td>44 AVENUE</td>\n",
       "      <td>...</td>\n",
       "      <td>QUEENS</td>\n",
       "      <td>NaN</td>\n",
       "      <td>21-24 44 AVENUE, QUEENS (LONG ISLAND CITY), NY...</td>\n",
       "      <td>40.749420</td>\n",
       "      <td>-73.946282</td>\n",
       "      <td>{'latitude': '40.74941966159945', 'longitude':...</td>\n",
       "      <td>NaN</td>\n",
       "      <td>2020</td>\n",
       "      <td>8</td>\n",
       "      <td>1</td>\n",
       "    </tr>\n",
       "    <tr>\n",
       "      <th>1290</th>\n",
       "      <td>8461</td>\n",
       "      <td>47181807</td>\n",
       "      <td>2020-08-09 03:55:08</td>\n",
       "      <td>TLC</td>\n",
       "      <td>Taxi and Limousine Commission</td>\n",
       "      <td>For Hire Vehicle Complaint</td>\n",
       "      <td>Driver Complaint - Passenger</td>\n",
       "      <td>10452</td>\n",
       "      <td>1160 CROMWELL AVENUE</td>\n",
       "      <td>CROMWELL AVENUE</td>\n",
       "      <td>...</td>\n",
       "      <td>BRONX</td>\n",
       "      <td>BRONX</td>\n",
       "      <td>1160 CROMWELL AVENUE, BRONX, NY, 10452</td>\n",
       "      <td>40.834853</td>\n",
       "      <td>-73.922998</td>\n",
       "      <td>{'latitude': '40.83485267491897', 'longitude':...</td>\n",
       "      <td>NaN</td>\n",
       "      <td>2020</td>\n",
       "      <td>8</td>\n",
       "      <td>6</td>\n",
       "    </tr>\n",
       "  </tbody>\n",
       "</table>\n",
       "<p>1291 rows × 21 columns</p>\n",
       "</div>"
      ],
      "text/plain": [
       "      index  unique_key        created_date agency  \\\n",
       "0         0    45245054 2019-12-25 16:42:37    TLC   \n",
       "1         1    45246167 2019-12-26 11:12:01    TLC   \n",
       "2         2    45247198 2019-12-26 19:15:21    TLC   \n",
       "3         3    45248682 2019-12-26 14:42:45    TLC   \n",
       "4         4    45249480 2019-12-26 23:01:26    TLC   \n",
       "...     ...         ...                 ...    ...   \n",
       "1286   8457    46773529 2020-07-06 22:10:46    TLC   \n",
       "1287   8458    46836329 2020-07-12 15:06:19    TLC   \n",
       "1288   8459    47037225 2020-07-30 15:30:24    TLC   \n",
       "1289   8460    47104021 2020-08-04 11:24:47    TLC   \n",
       "1290   8461    47181807 2020-08-09 03:55:08    TLC   \n",
       "\n",
       "                        agency_name              complaint_type  \\\n",
       "0     Taxi and Limousine Commission  For Hire Vehicle Complaint   \n",
       "1     Taxi and Limousine Commission  For Hire Vehicle Complaint   \n",
       "2     Taxi and Limousine Commission  For Hire Vehicle Complaint   \n",
       "3     Taxi and Limousine Commission  For Hire Vehicle Complaint   \n",
       "4     Taxi and Limousine Commission  For Hire Vehicle Complaint   \n",
       "...                             ...                         ...   \n",
       "1286  Taxi and Limousine Commission  For Hire Vehicle Complaint   \n",
       "1287  Taxi and Limousine Commission  For Hire Vehicle Complaint   \n",
       "1288  Taxi and Limousine Commission  For Hire Vehicle Complaint   \n",
       "1289  Taxi and Limousine Commission  For Hire Vehicle Complaint   \n",
       "1290  Taxi and Limousine Commission  For Hire Vehicle Complaint   \n",
       "\n",
       "                         descriptor  incident_zip        incident_address  \\\n",
       "0     Car Service Company Complaint         10022     50 EAST   54 STREET   \n",
       "1     Car Service Company Complaint         11379                65 PLACE   \n",
       "2     Car Service Company Complaint         11213  291 SCHENECTADY AVENUE   \n",
       "3     Car Service Company Complaint         11432   173-21 JAMAICA AVENUE   \n",
       "4     Car Service Company Complaint         10007            191 BROADWAY   \n",
       "...                             ...           ...                     ...   \n",
       "1286  Car Service Company Complaint         10302   1616 CASTLETON AVENUE   \n",
       "1287  Car Service Company Complaint         11692   354 BEACH   56 STREET   \n",
       "1288  Car Service Company Complaint         10036               10 AVENUE   \n",
       "1289  Car Service Company Complaint         11101         21-24 44 AVENUE   \n",
       "1290   Driver Complaint - Passenger         10452    1160 CROMWELL AVENUE   \n",
       "\n",
       "             street_name  ...        borough taxi_company_borough  \\\n",
       "0       EAST   54 STREET  ...      MANHATTAN            MANHATTAN   \n",
       "1               65 PLACE  ...         QUEENS               QUEENS   \n",
       "2     SCHENECTADY AVENUE  ...       BROOKLYN             BROOKLYN   \n",
       "3         JAMAICA AVENUE  ...         QUEENS               QUEENS   \n",
       "4               BROADWAY  ...      MANHATTAN            MANHATTAN   \n",
       "...                  ...  ...            ...                  ...   \n",
       "1286    CASTLETON AVENUE  ...  STATEN ISLAND        STATEN ISLAND   \n",
       "1287   BEACH   56 STREET  ...         QUEENS                BRONX   \n",
       "1288           10 AVENUE  ...      MANHATTAN            MANHATTAN   \n",
       "1289           44 AVENUE  ...         QUEENS                  NaN   \n",
       "1290     CROMWELL AVENUE  ...          BRONX                BRONX   \n",
       "\n",
       "                                  taxi_pick_up_location   latitude  longitude  \\\n",
       "0     50 EAST   54 STREET, MANHATTAN (NEW YORK), NY,...  40.760172 -73.973331   \n",
       "1     65 PLACE AND METROPOLITAN AVENUE, QUEENS, NY, ...  40.712478 -73.895025   \n",
       "2           291 SCHENECTADY AVENUE, BROOKLYN, NY, 11213  40.668089 -73.933961   \n",
       "3     173-21 JAMAICA AVENUE, QUEENS (JAMAICA), NY, 1...  40.707914 -73.786418   \n",
       "4         191 BROADWAY, MANHATTAN (NEW YORK), NY, 10007  40.710374 -74.009519   \n",
       "...                                                 ...        ...        ...   \n",
       "1286  1616 CASTLETON AVENUE, STATEN IS (STATEN ISLAN...  40.636082 -74.137083   \n",
       "1287  354 BEACH   56 STREET, QUEENS (ARVERNE), NY, 1...  40.593788 -73.786142   \n",
       "1288  10 AVENUE AND WEST   45 STREET, MANHATTAN, NY,...  40.761556 -73.994069   \n",
       "1289  21-24 44 AVENUE, QUEENS (LONG ISLAND CITY), NY...  40.749420 -73.946282   \n",
       "1290             1160 CROMWELL AVENUE, BRONX, NY, 10452  40.834853 -73.922998   \n",
       "\n",
       "                                               location location_type  year  \\\n",
       "0     {'latitude': '40.76017203609217', 'longitude':...           NaN  2019   \n",
       "1     {'latitude': '40.712478350483835', 'longitude'...           NaN  2019   \n",
       "2     {'latitude': '40.668088651233106', 'longitude'...           NaN  2019   \n",
       "3     {'latitude': '40.707914490470344', 'longitude'...           NaN  2019   \n",
       "4     {'latitude': '40.710373925407936', 'longitude'...           NaN  2019   \n",
       "...                                                 ...           ...   ...   \n",
       "1286  {'latitude': '40.636082117053114', 'longitude'...           NaN  2020   \n",
       "1287  {'latitude': '40.59378834000442', 'longitude':...           NaN  2020   \n",
       "1288  {'latitude': '40.761555576126604', 'longitude'...           NaN  2020   \n",
       "1289  {'latitude': '40.74941966159945', 'longitude':...           NaN  2020   \n",
       "1290  {'latitude': '40.83485267491897', 'longitude':...           NaN  2020   \n",
       "\n",
       "      month  day  \n",
       "0        12    2  \n",
       "1        12    3  \n",
       "2        12    3  \n",
       "3        12    3  \n",
       "4        12    3  \n",
       "...     ...  ...  \n",
       "1286      7    0  \n",
       "1287      7    6  \n",
       "1288      7    3  \n",
       "1289      8    1  \n",
       "1290      8    6  \n",
       "\n",
       "[1291 rows x 21 columns]"
      ]
     },
     "execution_count": 520,
     "metadata": {},
     "output_type": "execute_result"
    }
   ],
   "source": [
    "##filtering from 2015 to 2021, and creating a new df called \"df311\"\n",
    "startdate=2015\n",
    "enddate=2021\n",
    "df311 = df[(df['year']>= startdate) & (df['year']< enddate)]\n",
    "df311.reset_index()"
   ]
  },
  {
   "cell_type": "code",
   "execution_count": 521,
   "id": "humanitarian-prairie",
   "metadata": {},
   "outputs": [
    {
     "name": "stdout",
     "output_type": "stream",
     "text": [
      "2015-01-05 16:23:31\n",
      "2020-12-31 09:28:13\n"
     ]
    }
   ],
   "source": [
    "print(min(df311['created_date']))\n",
    "print(max(df311['created_date']))"
   ]
  },
  {
   "cell_type": "code",
   "execution_count": 522,
   "id": "naval-stroke",
   "metadata": {},
   "outputs": [
    {
     "data": {
      "text/html": [
       "<div>\n",
       "<style scoped>\n",
       "    .dataframe tbody tr th:only-of-type {\n",
       "        vertical-align: middle;\n",
       "    }\n",
       "\n",
       "    .dataframe tbody tr th {\n",
       "        vertical-align: top;\n",
       "    }\n",
       "\n",
       "    .dataframe thead th {\n",
       "        text-align: right;\n",
       "    }\n",
       "</style>\n",
       "<table border=\"1\" class=\"dataframe\">\n",
       "  <thead>\n",
       "    <tr style=\"text-align: right;\">\n",
       "      <th></th>\n",
       "      <th>unique_key</th>\n",
       "      <th>created_date</th>\n",
       "      <th>agency</th>\n",
       "      <th>agency_name</th>\n",
       "      <th>complaint_type</th>\n",
       "      <th>descriptor</th>\n",
       "      <th>incident_zip</th>\n",
       "      <th>incident_address</th>\n",
       "      <th>street_name</th>\n",
       "      <th>city</th>\n",
       "      <th>borough</th>\n",
       "      <th>taxi_company_borough</th>\n",
       "      <th>taxi_pick_up_location</th>\n",
       "      <th>latitude</th>\n",
       "      <th>longitude</th>\n",
       "      <th>location</th>\n",
       "      <th>location_type</th>\n",
       "      <th>year</th>\n",
       "      <th>month</th>\n",
       "      <th>day</th>\n",
       "    </tr>\n",
       "  </thead>\n",
       "  <tbody>\n",
       "    <tr>\n",
       "      <th>0</th>\n",
       "      <td>45245054</td>\n",
       "      <td>2019-12-25 16:42:37</td>\n",
       "      <td>TLC</td>\n",
       "      <td>Taxi and Limousine Commission</td>\n",
       "      <td>For Hire Vehicle Complaint</td>\n",
       "      <td>Car Service Company Complaint</td>\n",
       "      <td>10022</td>\n",
       "      <td>50 EAST   54 STREET</td>\n",
       "      <td>EAST   54 STREET</td>\n",
       "      <td>NEW YORK</td>\n",
       "      <td>MANHATTAN</td>\n",
       "      <td>MANHATTAN</td>\n",
       "      <td>50 EAST   54 STREET, MANHATTAN (NEW YORK), NY,...</td>\n",
       "      <td>40.760172</td>\n",
       "      <td>-73.973331</td>\n",
       "      <td>{'latitude': '40.76017203609217', 'longitude':...</td>\n",
       "      <td>NaN</td>\n",
       "      <td>2019</td>\n",
       "      <td>12</td>\n",
       "      <td>2</td>\n",
       "    </tr>\n",
       "    <tr>\n",
       "      <th>1</th>\n",
       "      <td>45246167</td>\n",
       "      <td>2019-12-26 11:12:01</td>\n",
       "      <td>TLC</td>\n",
       "      <td>Taxi and Limousine Commission</td>\n",
       "      <td>For Hire Vehicle Complaint</td>\n",
       "      <td>Car Service Company Complaint</td>\n",
       "      <td>11379</td>\n",
       "      <td>65 PLACE</td>\n",
       "      <td>65 PLACE</td>\n",
       "      <td>NaN</td>\n",
       "      <td>QUEENS</td>\n",
       "      <td>QUEENS</td>\n",
       "      <td>65 PLACE AND METROPOLITAN AVENUE, QUEENS, NY, ...</td>\n",
       "      <td>40.712478</td>\n",
       "      <td>-73.895025</td>\n",
       "      <td>{'latitude': '40.712478350483835', 'longitude'...</td>\n",
       "      <td>NaN</td>\n",
       "      <td>2019</td>\n",
       "      <td>12</td>\n",
       "      <td>3</td>\n",
       "    </tr>\n",
       "    <tr>\n",
       "      <th>2</th>\n",
       "      <td>45247198</td>\n",
       "      <td>2019-12-26 19:15:21</td>\n",
       "      <td>TLC</td>\n",
       "      <td>Taxi and Limousine Commission</td>\n",
       "      <td>For Hire Vehicle Complaint</td>\n",
       "      <td>Car Service Company Complaint</td>\n",
       "      <td>11213</td>\n",
       "      <td>291 SCHENECTADY AVENUE</td>\n",
       "      <td>SCHENECTADY AVENUE</td>\n",
       "      <td>BROOKLYN</td>\n",
       "      <td>BROOKLYN</td>\n",
       "      <td>BROOKLYN</td>\n",
       "      <td>291 SCHENECTADY AVENUE, BROOKLYN, NY, 11213</td>\n",
       "      <td>40.668089</td>\n",
       "      <td>-73.933961</td>\n",
       "      <td>{'latitude': '40.668088651233106', 'longitude'...</td>\n",
       "      <td>NaN</td>\n",
       "      <td>2019</td>\n",
       "      <td>12</td>\n",
       "      <td>3</td>\n",
       "    </tr>\n",
       "    <tr>\n",
       "      <th>3</th>\n",
       "      <td>45248682</td>\n",
       "      <td>2019-12-26 14:42:45</td>\n",
       "      <td>TLC</td>\n",
       "      <td>Taxi and Limousine Commission</td>\n",
       "      <td>For Hire Vehicle Complaint</td>\n",
       "      <td>Car Service Company Complaint</td>\n",
       "      <td>11432</td>\n",
       "      <td>173-21 JAMAICA AVENUE</td>\n",
       "      <td>JAMAICA AVENUE</td>\n",
       "      <td>JAMAICA</td>\n",
       "      <td>QUEENS</td>\n",
       "      <td>QUEENS</td>\n",
       "      <td>173-21 JAMAICA AVENUE, QUEENS (JAMAICA), NY, 1...</td>\n",
       "      <td>40.707914</td>\n",
       "      <td>-73.786418</td>\n",
       "      <td>{'latitude': '40.707914490470344', 'longitude'...</td>\n",
       "      <td>NaN</td>\n",
       "      <td>2019</td>\n",
       "      <td>12</td>\n",
       "      <td>3</td>\n",
       "    </tr>\n",
       "    <tr>\n",
       "      <th>4</th>\n",
       "      <td>45249480</td>\n",
       "      <td>2019-12-26 23:01:26</td>\n",
       "      <td>TLC</td>\n",
       "      <td>Taxi and Limousine Commission</td>\n",
       "      <td>For Hire Vehicle Complaint</td>\n",
       "      <td>Car Service Company Complaint</td>\n",
       "      <td>10007</td>\n",
       "      <td>191 BROADWAY</td>\n",
       "      <td>BROADWAY</td>\n",
       "      <td>NEW YORK</td>\n",
       "      <td>MANHATTAN</td>\n",
       "      <td>MANHATTAN</td>\n",
       "      <td>191 BROADWAY, MANHATTAN (NEW YORK), NY, 10007</td>\n",
       "      <td>40.710374</td>\n",
       "      <td>-74.009519</td>\n",
       "      <td>{'latitude': '40.710373925407936', 'longitude'...</td>\n",
       "      <td>NaN</td>\n",
       "      <td>2019</td>\n",
       "      <td>12</td>\n",
       "      <td>3</td>\n",
       "    </tr>\n",
       "  </tbody>\n",
       "</table>\n",
       "</div>"
      ],
      "text/plain": [
       "   unique_key        created_date agency                    agency_name  \\\n",
       "0    45245054 2019-12-25 16:42:37    TLC  Taxi and Limousine Commission   \n",
       "1    45246167 2019-12-26 11:12:01    TLC  Taxi and Limousine Commission   \n",
       "2    45247198 2019-12-26 19:15:21    TLC  Taxi and Limousine Commission   \n",
       "3    45248682 2019-12-26 14:42:45    TLC  Taxi and Limousine Commission   \n",
       "4    45249480 2019-12-26 23:01:26    TLC  Taxi and Limousine Commission   \n",
       "\n",
       "               complaint_type                     descriptor  incident_zip  \\\n",
       "0  For Hire Vehicle Complaint  Car Service Company Complaint         10022   \n",
       "1  For Hire Vehicle Complaint  Car Service Company Complaint         11379   \n",
       "2  For Hire Vehicle Complaint  Car Service Company Complaint         11213   \n",
       "3  For Hire Vehicle Complaint  Car Service Company Complaint         11432   \n",
       "4  For Hire Vehicle Complaint  Car Service Company Complaint         10007   \n",
       "\n",
       "         incident_address         street_name      city    borough  \\\n",
       "0     50 EAST   54 STREET    EAST   54 STREET  NEW YORK  MANHATTAN   \n",
       "1                65 PLACE            65 PLACE       NaN     QUEENS   \n",
       "2  291 SCHENECTADY AVENUE  SCHENECTADY AVENUE  BROOKLYN   BROOKLYN   \n",
       "3   173-21 JAMAICA AVENUE      JAMAICA AVENUE   JAMAICA     QUEENS   \n",
       "4            191 BROADWAY            BROADWAY  NEW YORK  MANHATTAN   \n",
       "\n",
       "  taxi_company_borough                              taxi_pick_up_location  \\\n",
       "0            MANHATTAN  50 EAST   54 STREET, MANHATTAN (NEW YORK), NY,...   \n",
       "1               QUEENS  65 PLACE AND METROPOLITAN AVENUE, QUEENS, NY, ...   \n",
       "2             BROOKLYN        291 SCHENECTADY AVENUE, BROOKLYN, NY, 11213   \n",
       "3               QUEENS  173-21 JAMAICA AVENUE, QUEENS (JAMAICA), NY, 1...   \n",
       "4            MANHATTAN      191 BROADWAY, MANHATTAN (NEW YORK), NY, 10007   \n",
       "\n",
       "    latitude  longitude                                           location  \\\n",
       "0  40.760172 -73.973331  {'latitude': '40.76017203609217', 'longitude':...   \n",
       "1  40.712478 -73.895025  {'latitude': '40.712478350483835', 'longitude'...   \n",
       "2  40.668089 -73.933961  {'latitude': '40.668088651233106', 'longitude'...   \n",
       "3  40.707914 -73.786418  {'latitude': '40.707914490470344', 'longitude'...   \n",
       "4  40.710374 -74.009519  {'latitude': '40.710373925407936', 'longitude'...   \n",
       "\n",
       "  location_type  year  month  day  \n",
       "0           NaN  2019     12    2  \n",
       "1           NaN  2019     12    3  \n",
       "2           NaN  2019     12    3  \n",
       "3           NaN  2019     12    3  \n",
       "4           NaN  2019     12    3  "
      ]
     },
     "execution_count": 522,
     "metadata": {},
     "output_type": "execute_result"
    }
   ],
   "source": [
    "df311.head()"
   ]
  },
  {
   "cell_type": "code",
   "execution_count": 523,
   "id": "atomic-expense",
   "metadata": {},
   "outputs": [],
   "source": [
    "df311.to_csv ('311_Service_Request_TLC.csv', index = False, header=True)"
   ]
  },
  {
   "cell_type": "code",
   "execution_count": null,
   "id": "identical-liberia",
   "metadata": {},
   "outputs": [],
   "source": []
  }
 ],
 "metadata": {
  "kernelspec": {
   "display_name": "Python 3",
   "language": "python",
   "name": "python3"
  },
  "language_info": {
   "codemirror_mode": {
    "name": "ipython",
    "version": 3
   },
   "file_extension": ".py",
   "mimetype": "text/x-python",
   "name": "python",
   "nbconvert_exporter": "python",
   "pygments_lexer": "ipython3",
   "version": "3.8.2"
  }
 },
 "nbformat": 4,
 "nbformat_minor": 5
}
