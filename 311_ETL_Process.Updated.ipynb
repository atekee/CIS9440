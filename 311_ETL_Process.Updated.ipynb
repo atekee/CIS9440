{
 "cells": [
  {
   "cell_type": "code",
   "execution_count": 145,
   "id": "consistent-surveillance",
   "metadata": {},
   "outputs": [],
   "source": [
    "##pip install sodapy\n",
    "from sodapy import Socrata\n",
    "import pandas as pd\n",
    "import datetime"
   ]
  },
  {
   "cell_type": "code",
   "execution_count": 146,
   "id": "professional-acoustic",
   "metadata": {},
   "outputs": [
    {
     "name": "stderr",
     "output_type": "stream",
     "text": [
      "WARNING:root:Requests made without an app_token will be subject to strict throttling limits.\n"
     ]
    }
   ],
   "source": [
    "##we filter all rows where vehicle_type column equals 'Car Service'\n",
    "##client.timeout = 1000000 -> the connection doesnt time out after default time (10 seconds)\n",
    "##limit by 1000000\n",
    "client = Socrata(\"data.cityofnewyork.us\", None)\n",
    "client.timeout = 1000000\n",
    "query = \"SELECT * WHERE vehicle_type = 'Car Service' LIMIT 1000000 \""
   ]
  },
  {
   "cell_type": "code",
   "execution_count": 147,
   "id": "functional-india",
   "metadata": {},
   "outputs": [],
   "source": [
    "results = client.get(\"erm2-nwe9\", query=query)"
   ]
  },
  {
   "cell_type": "code",
   "execution_count": 148,
   "id": "olive-palace",
   "metadata": {},
   "outputs": [],
   "source": [
    "df = pd.DataFrame.from_records(results)"
   ]
  },
  {
   "cell_type": "code",
   "execution_count": 149,
   "id": "interior-motorcycle",
   "metadata": {},
   "outputs": [
    {
     "name": "stdout",
     "output_type": "stream",
     "text": [
      "<class 'pandas.core.frame.DataFrame'>\n",
      "RangeIndex: 8547 entries, 0 to 8546\n",
      "Data columns (total 41 columns):\n",
      " #   Column                          Non-Null Count  Dtype \n",
      "---  ------                          --------------  ----- \n",
      " 0   unique_key                      8547 non-null   object\n",
      " 1   created_date                    8547 non-null   object\n",
      " 2   closed_date                     7334 non-null   object\n",
      " 3   agency                          8547 non-null   object\n",
      " 4   agency_name                     8547 non-null   object\n",
      " 5   complaint_type                  8547 non-null   object\n",
      " 6   descriptor                      8547 non-null   object\n",
      " 7   location_type                   7201 non-null   object\n",
      " 8   intersection_street_1           4873 non-null   object\n",
      " 9   intersection_street_2           4871 non-null   object\n",
      " 10  facility_type                   6768 non-null   object\n",
      " 11  status                          8547 non-null   object\n",
      " 12  due_date                        6241 non-null   object\n",
      " 13  resolution_description          8533 non-null   object\n",
      " 14  resolution_action_updated_date  8313 non-null   object\n",
      " 15  community_board                 8547 non-null   object\n",
      " 16  borough                         8547 non-null   object\n",
      " 17  open_data_channel_type          8547 non-null   object\n",
      " 18  park_facility_name              8547 non-null   object\n",
      " 19  park_borough                    8547 non-null   object\n",
      " 20  vehicle_type                    8547 non-null   object\n",
      " 21  taxi_company_borough            5662 non-null   object\n",
      " 22  incident_zip                    8094 non-null   object\n",
      " 23  incident_address                4590 non-null   object\n",
      " 24  street_name                     4590 non-null   object\n",
      " 25  cross_street_1                  4852 non-null   object\n",
      " 26  cross_street_2                  4848 non-null   object\n",
      " 27  city                            7920 non-null   object\n",
      " 28  landmark                        1866 non-null   object\n",
      " 29  bbl                             4289 non-null   object\n",
      " 30  x_coordinate_state_plane        8004 non-null   object\n",
      " 31  y_coordinate_state_plane        8004 non-null   object\n",
      " 32  taxi_pick_up_location           1712 non-null   object\n",
      " 33  latitude                        8004 non-null   object\n",
      " 34  longitude                       8004 non-null   object\n",
      " 35  location                        8004 non-null   object\n",
      " 36  address_type                    6285 non-null   object\n",
      " 37  bridge_highway_name             328 non-null    object\n",
      " 38  bridge_highway_direction        314 non-null    object\n",
      " 39  road_ramp                       296 non-null    object\n",
      " 40  bridge_highway_segment          234 non-null    object\n",
      "dtypes: object(41)\n",
      "memory usage: 2.7+ MB\n"
     ]
    }
   ],
   "source": [
    "df.info()"
   ]
  },
  {
   "cell_type": "code",
   "execution_count": 150,
   "id": "every-improvement",
   "metadata": {},
   "outputs": [],
   "source": [
    "##choose relevant columns\n",
    "df = df[['unique_key', 'created_date', 'agency', 'complaint_type', 'descriptor', 'incident_zip', \n",
    "'incident_address', 'street_name', 'city', 'borough', 'taxi_pick_up_location',\n",
    "'latitude', 'longitude', 'location']]"
   ]
  },
  {
   "cell_type": "code",
   "execution_count": 151,
   "id": "vietnamese-istanbul",
   "metadata": {},
   "outputs": [],
   "source": [
    "##dropping null values from these columns as I'll change data type to number\n",
    "df.dropna(subset=['latitude','longitude'], inplace=True)\n",
    "\n",
    "##incident_zip has \"N/A\" value it needs to be classified as NaN first, then it can be dropped.\n",
    "df['incident_zip'] = pd.to_numeric(df['incident_zip'], errors='coerce')\n",
    "df.dropna(subset=['incident_zip'], inplace=True)"
   ]
  },
  {
   "cell_type": "code",
   "execution_count": 152,
   "id": "republican-worse",
   "metadata": {},
   "outputs": [
    {
     "data": {
      "text/plain": [
       "unique_key                        int64\n",
       "created_date             datetime64[ns]\n",
       "agency                           object\n",
       "complaint_type                   object\n",
       "descriptor                       object\n",
       "incident_zip                      int64\n",
       "incident_address                 object\n",
       "street_name                      object\n",
       "city                             object\n",
       "borough                          object\n",
       "taxi_pick_up_location            object\n",
       "latitude                        float64\n",
       "longitude                       float64\n",
       "location                         object\n",
       "dtype: object"
      ]
     },
     "execution_count": 152,
     "metadata": {},
     "output_type": "execute_result"
    }
   ],
   "source": [
    "##change data types\n",
    "df['unique_key'] = df['unique_key'].astype('int')\n",
    "df['latitude'] = df['latitude'].astype('float')\n",
    "df['longitude'] = df['longitude'].astype('float')\n",
    "df['incident_zip'] = df['incident_zip'].astype('int')\n",
    "\n",
    "#convert date column to datetime \n",
    "df['created_date'] = pd.to_datetime(df['created_date'], \n",
    "                                    format='%Y-%m-%dT%H:%M:%S.%f')\n",
    "df.dtypes"
   ]
  },
  {
   "cell_type": "code",
   "execution_count": 153,
   "id": "recreational-subdivision",
   "metadata": {},
   "outputs": [],
   "source": [
    "##creating year, mont, dayofweek columns\n",
    "df['year'] = df['created_date'].dt.year\n",
    "df['month'] = df['created_date'].dt.month\n",
    "df['day'] = df['created_date'].dt.dayofweek"
   ]
  },
  {
   "cell_type": "code",
   "execution_count": 154,
   "id": "ordered-minimum",
   "metadata": {},
   "outputs": [],
   "source": [
    "##filtering from 2017 to 2021, and creating a new df called \"df311\"\n",
    "startdate=2017\n",
    "enddate=2021\n",
    "df311 = df[(df['year']>= startdate) & (df['year']< enddate)]\n",
    "df311.reset_index(drop=True, inplace=True)"
   ]
  },
  {
   "cell_type": "code",
   "execution_count": 155,
   "id": "sonic-coast",
   "metadata": {},
   "outputs": [
    {
     "name": "stdout",
     "output_type": "stream",
     "text": [
      "2017-01-04 15:27:21\n",
      "2020-12-31 09:28:13\n"
     ]
    }
   ],
   "source": [
    "##confirm the data includes values from 2017 to 2020\n",
    "print(min(df311['created_date']))\n",
    "print(max(df311['created_date']))"
   ]
  },
  {
   "cell_type": "code",
   "execution_count": 156,
   "id": "photographic-puppy",
   "metadata": {},
   "outputs": [
    {
     "data": {
      "text/html": [
       "<div>\n",
       "<style scoped>\n",
       "    .dataframe tbody tr th:only-of-type {\n",
       "        vertical-align: middle;\n",
       "    }\n",
       "\n",
       "    .dataframe tbody tr th {\n",
       "        vertical-align: top;\n",
       "    }\n",
       "\n",
       "    .dataframe thead th {\n",
       "        text-align: right;\n",
       "    }\n",
       "</style>\n",
       "<table border=\"1\" class=\"dataframe\">\n",
       "  <thead>\n",
       "    <tr style=\"text-align: right;\">\n",
       "      <th></th>\n",
       "      <th>unique_key</th>\n",
       "      <th>created_date</th>\n",
       "      <th>agency</th>\n",
       "      <th>complaint_type</th>\n",
       "      <th>descriptor</th>\n",
       "      <th>incident_zip</th>\n",
       "      <th>incident_address</th>\n",
       "      <th>street_name</th>\n",
       "      <th>city</th>\n",
       "      <th>borough</th>\n",
       "      <th>taxi_pick_up_location</th>\n",
       "      <th>latitude</th>\n",
       "      <th>longitude</th>\n",
       "      <th>location</th>\n",
       "      <th>year</th>\n",
       "      <th>month</th>\n",
       "      <th>day</th>\n",
       "    </tr>\n",
       "  </thead>\n",
       "  <tbody>\n",
       "    <tr>\n",
       "      <th>0</th>\n",
       "      <td>45906206</td>\n",
       "      <td>2020-03-27 11:33:26</td>\n",
       "      <td>TLC</td>\n",
       "      <td>For Hire Vehicle Complaint</td>\n",
       "      <td>Car Service Company Complaint</td>\n",
       "      <td>11203</td>\n",
       "      <td>462 EAST   52 STREET</td>\n",
       "      <td>EAST   52 STREET</td>\n",
       "      <td>BROOKLYN</td>\n",
       "      <td>BROOKLYN</td>\n",
       "      <td>462 EAST   52 STREET, BROOKLYN, NY, 11203</td>\n",
       "      <td>40.649355</td>\n",
       "      <td>-73.928182</td>\n",
       "      <td>{'latitude': '40.64935480219636', 'longitude':...</td>\n",
       "      <td>2020</td>\n",
       "      <td>3</td>\n",
       "      <td>4</td>\n",
       "    </tr>\n",
       "    <tr>\n",
       "      <th>1</th>\n",
       "      <td>45937007</td>\n",
       "      <td>2020-04-02 16:06:02</td>\n",
       "      <td>TLC</td>\n",
       "      <td>For Hire Vehicle Complaint</td>\n",
       "      <td>Car Service Company Complaint</td>\n",
       "      <td>10467</td>\n",
       "      <td>3211 PARKSIDE PLACE</td>\n",
       "      <td>PARKSIDE PLACE</td>\n",
       "      <td>BRONX</td>\n",
       "      <td>BRONX</td>\n",
       "      <td>3211 PARKSIDE PLACE, BRONX, NY, 10467</td>\n",
       "      <td>40.874213</td>\n",
       "      <td>-73.874224</td>\n",
       "      <td>{'latitude': '40.874212779486264', 'longitude'...</td>\n",
       "      <td>2020</td>\n",
       "      <td>4</td>\n",
       "      <td>3</td>\n",
       "    </tr>\n",
       "    <tr>\n",
       "      <th>2</th>\n",
       "      <td>45975433</td>\n",
       "      <td>2020-04-09 12:21:01</td>\n",
       "      <td>TLC</td>\n",
       "      <td>For Hire Vehicle Complaint</td>\n",
       "      <td>Car Service Company Complaint</td>\n",
       "      <td>10005</td>\n",
       "      <td>27 WILLIAM STREET</td>\n",
       "      <td>WILLIAM STREET</td>\n",
       "      <td>NEW YORK</td>\n",
       "      <td>MANHATTAN</td>\n",
       "      <td>27 WILLIAM STREET, MANHATTAN (NEW YORK), NY, 1...</td>\n",
       "      <td>40.705565</td>\n",
       "      <td>-74.009940</td>\n",
       "      <td>{'latitude': '40.705565064125295', 'longitude'...</td>\n",
       "      <td>2020</td>\n",
       "      <td>4</td>\n",
       "      <td>3</td>\n",
       "    </tr>\n",
       "    <tr>\n",
       "      <th>3</th>\n",
       "      <td>45995158</td>\n",
       "      <td>2020-04-13 23:02:59</td>\n",
       "      <td>TLC</td>\n",
       "      <td>For Hire Vehicle Complaint</td>\n",
       "      <td>Car Service Company Complaint</td>\n",
       "      <td>11203</td>\n",
       "      <td>KINGS COUNTY HOSPITAL</td>\n",
       "      <td>KINGS COUNTY HOSPITAL</td>\n",
       "      <td>BROOKLYN</td>\n",
       "      <td>BROOKLYN</td>\n",
       "      <td>KINGS COUNTY HOSPITAL CENTER, BROOKLYN ,NY, 11203</td>\n",
       "      <td>40.656492</td>\n",
       "      <td>-73.944886</td>\n",
       "      <td>{'latitude': '40.65649222055972', 'longitude':...</td>\n",
       "      <td>2020</td>\n",
       "      <td>4</td>\n",
       "      <td>0</td>\n",
       "    </tr>\n",
       "    <tr>\n",
       "      <th>4</th>\n",
       "      <td>46018036</td>\n",
       "      <td>2020-01-30 02:15:07</td>\n",
       "      <td>TLC</td>\n",
       "      <td>For Hire Vehicle Report</td>\n",
       "      <td>Driver Report - Passenger</td>\n",
       "      <td>10456</td>\n",
       "      <td>1070 WASHINGTON AVENUE</td>\n",
       "      <td>WASHINGTON AVENUE</td>\n",
       "      <td>BRONX</td>\n",
       "      <td>BRONX</td>\n",
       "      <td>1070 WASHINGTON AVENUE, BRONX, NY, 10456</td>\n",
       "      <td>40.827821</td>\n",
       "      <td>-73.908816</td>\n",
       "      <td>{'latitude': '40.8278213552831', 'longitude': ...</td>\n",
       "      <td>2020</td>\n",
       "      <td>1</td>\n",
       "      <td>3</td>\n",
       "    </tr>\n",
       "  </tbody>\n",
       "</table>\n",
       "</div>"
      ],
      "text/plain": [
       "   unique_key        created_date agency              complaint_type  \\\n",
       "0    45906206 2020-03-27 11:33:26    TLC  For Hire Vehicle Complaint   \n",
       "1    45937007 2020-04-02 16:06:02    TLC  For Hire Vehicle Complaint   \n",
       "2    45975433 2020-04-09 12:21:01    TLC  For Hire Vehicle Complaint   \n",
       "3    45995158 2020-04-13 23:02:59    TLC  For Hire Vehicle Complaint   \n",
       "4    46018036 2020-01-30 02:15:07    TLC     For Hire Vehicle Report   \n",
       "\n",
       "                      descriptor  incident_zip        incident_address  \\\n",
       "0  Car Service Company Complaint         11203    462 EAST   52 STREET   \n",
       "1  Car Service Company Complaint         10467     3211 PARKSIDE PLACE   \n",
       "2  Car Service Company Complaint         10005       27 WILLIAM STREET   \n",
       "3  Car Service Company Complaint         11203   KINGS COUNTY HOSPITAL   \n",
       "4      Driver Report - Passenger         10456  1070 WASHINGTON AVENUE   \n",
       "\n",
       "             street_name      city    borough  \\\n",
       "0       EAST   52 STREET  BROOKLYN   BROOKLYN   \n",
       "1         PARKSIDE PLACE     BRONX      BRONX   \n",
       "2         WILLIAM STREET  NEW YORK  MANHATTAN   \n",
       "3  KINGS COUNTY HOSPITAL  BROOKLYN   BROOKLYN   \n",
       "4      WASHINGTON AVENUE     BRONX      BRONX   \n",
       "\n",
       "                               taxi_pick_up_location   latitude  longitude  \\\n",
       "0          462 EAST   52 STREET, BROOKLYN, NY, 11203  40.649355 -73.928182   \n",
       "1              3211 PARKSIDE PLACE, BRONX, NY, 10467  40.874213 -73.874224   \n",
       "2  27 WILLIAM STREET, MANHATTAN (NEW YORK), NY, 1...  40.705565 -74.009940   \n",
       "3  KINGS COUNTY HOSPITAL CENTER, BROOKLYN ,NY, 11203  40.656492 -73.944886   \n",
       "4           1070 WASHINGTON AVENUE, BRONX, NY, 10456  40.827821 -73.908816   \n",
       "\n",
       "                                            location  year  month  day  \n",
       "0  {'latitude': '40.64935480219636', 'longitude':...  2020      3    4  \n",
       "1  {'latitude': '40.874212779486264', 'longitude'...  2020      4    3  \n",
       "2  {'latitude': '40.705565064125295', 'longitude'...  2020      4    3  \n",
       "3  {'latitude': '40.65649222055972', 'longitude':...  2020      4    0  \n",
       "4  {'latitude': '40.8278213552831', 'longitude': ...  2020      1    3  "
      ]
     },
     "execution_count": 156,
     "metadata": {},
     "output_type": "execute_result"
    }
   ],
   "source": [
    "df311.head()"
   ]
  },
  {
   "cell_type": "code",
   "execution_count": 157,
   "id": "rational-professional",
   "metadata": {},
   "outputs": [
    {
     "data": {
      "text/plain": [
       "unique_key                 0\n",
       "created_date               0\n",
       "agency                     0\n",
       "complaint_type             0\n",
       "descriptor                 0\n",
       "incident_zip               0\n",
       "incident_address          34\n",
       "street_name               34\n",
       "city                     138\n",
       "borough                    0\n",
       "taxi_pick_up_location     54\n",
       "latitude                   0\n",
       "longitude                  0\n",
       "location                   0\n",
       "year                       0\n",
       "month                      0\n",
       "day                        0\n",
       "dtype: int64"
      ]
     },
     "execution_count": 157,
     "metadata": {},
     "output_type": "execute_result"
    }
   ],
   "source": [
    "##see null values in our final 311 data\n",
    "df311.isnull().sum()"
   ]
  },
  {
   "cell_type": "code",
   "execution_count": 158,
   "id": "ignored-wheel",
   "metadata": {},
   "outputs": [],
   "source": [
    "##export the data into a csv file\n",
    "df311.to_csv ('311_Service_Request_TLC.csv', index = False, header=True)"
   ]
  },
  {
   "cell_type": "code",
   "execution_count": null,
   "id": "modern-multimedia",
   "metadata": {},
   "outputs": [],
   "source": []
  }
 ],
 "metadata": {
  "kernelspec": {
   "display_name": "Python 3",
   "language": "python",
   "name": "python3"
  },
  "language_info": {
   "codemirror_mode": {
    "name": "ipython",
    "version": 3
   },
   "file_extension": ".py",
   "mimetype": "text/x-python",
   "name": "python",
   "nbconvert_exporter": "python",
   "pygments_lexer": "ipython3",
   "version": "3.8.2"
  }
 },
 "nbformat": 4,
 "nbformat_minor": 5
}
